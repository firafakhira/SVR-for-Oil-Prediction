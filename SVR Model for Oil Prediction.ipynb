{
 "cells": [
  {
   "cell_type": "code",
   "execution_count": 1,
   "metadata": {},
   "outputs": [],
   "source": [
    "from sklearn.linear_model import LinearRegression\n",
    "from sklearn.svm import SVR\n",
    "from sklearn.metrics import r2_score\n",
    "import matplotlib.pyplot as plt\n",
    "import numpy as np\n",
    "import pandas as pd"
   ]
  },
  {
   "cell_type": "code",
   "execution_count": 2,
   "metadata": {},
   "outputs": [],
   "source": [
    "days = []\n",
    "dataset = []\n",
    "feature_test = []\n",
    "target_test = []\n",
    "feature_train = []\n",
    "target_train = []\n",
    "range_data_test = []"
   ]
  },
  {
   "cell_type": "code",
   "execution_count": 3,
   "metadata": {},
   "outputs": [],
   "source": [
    "df = pd.read_csv(\"oil-price.csv\")"
   ]
  },
  {
   "cell_type": "code",
   "execution_count": 4,
   "metadata": {},
   "outputs": [
    {
     "data": {
      "text/html": [
       "<div>\n",
       "<style scoped>\n",
       "    .dataframe tbody tr th:only-of-type {\n",
       "        vertical-align: middle;\n",
       "    }\n",
       "\n",
       "    .dataframe tbody tr th {\n",
       "        vertical-align: top;\n",
       "    }\n",
       "\n",
       "    .dataframe thead th {\n",
       "        text-align: right;\n",
       "    }\n",
       "</style>\n",
       "<table border=\"1\" class=\"dataframe\">\n",
       "  <thead>\n",
       "    <tr style=\"text-align: right;\">\n",
       "      <th></th>\n",
       "      <th>Day</th>\n",
       "      <th>Price</th>\n",
       "    </tr>\n",
       "  </thead>\n",
       "  <tbody>\n",
       "    <tr>\n",
       "      <th>0</th>\n",
       "      <td>1</td>\n",
       "      <td>95.14</td>\n",
       "    </tr>\n",
       "    <tr>\n",
       "      <th>1</th>\n",
       "      <td>2</td>\n",
       "      <td>93.66</td>\n",
       "    </tr>\n",
       "    <tr>\n",
       "      <th>2</th>\n",
       "      <td>3</td>\n",
       "      <td>93.12</td>\n",
       "    </tr>\n",
       "    <tr>\n",
       "      <th>3</th>\n",
       "      <td>4</td>\n",
       "      <td>93.31</td>\n",
       "    </tr>\n",
       "    <tr>\n",
       "      <th>4</th>\n",
       "      <td>5</td>\n",
       "      <td>91.90</td>\n",
       "    </tr>\n",
       "  </tbody>\n",
       "</table>\n",
       "</div>"
      ],
      "text/plain": [
       "   Day  Price\n",
       "0    1  95.14\n",
       "1    2  93.66\n",
       "2    3  93.12\n",
       "3    4  93.31\n",
       "4    5  91.90"
      ]
     },
     "execution_count": 4,
     "metadata": {},
     "output_type": "execute_result"
    }
   ],
   "source": [
    "df.head()"
   ]
  },
  {
   "cell_type": "markdown",
   "metadata": {},
   "source": [
    "# Preprocessing"
   ]
  },
  {
   "cell_type": "code",
   "execution_count": 5,
   "metadata": {},
   "outputs": [],
   "source": [
    "# convert float type into integer so multiplied by 100\n",
    "for i in range(0,850):\n",
    "    days.append(int(float(df['Day'][i])))\n",
    "    \n",
    "for i in range(0,850):\n",
    "    dataset.append(int(float(df['Price'][i])*100))"
   ]
  },
  {
   "cell_type": "code",
   "execution_count": 6,
   "metadata": {},
   "outputs": [],
   "source": [
    "#split data train 80%\n",
    "range_data_train = int(0.8*(len(dataset)+1))"
   ]
  },
  {
   "cell_type": "code",
   "execution_count": 7,
   "metadata": {},
   "outputs": [],
   "source": [
    "for i in range(0,range_data_train):\n",
    "    target_train.append(dataset[i])\n",
    "    \n",
    "for i in range(0, range_data_train):\n",
    "    feature_train.append(days[i])"
   ]
  },
  {
   "cell_type": "code",
   "execution_count": 8,
   "metadata": {},
   "outputs": [],
   "source": [
    "for i in range(0, len(dataset)):\n",
    "    target_test.append(dataset[i])\n",
    "    \n",
    "for i in range(0, len(dataset)):\n",
    "    feature_test.append(days[i])"
   ]
  },
  {
   "cell_type": "code",
   "execution_count": 9,
   "metadata": {},
   "outputs": [],
   "source": [
    "arr_feature_test = np.array(feature_test)\n",
    "arr_feature_train = np.array(feature_train)"
   ]
  },
  {
   "cell_type": "code",
   "execution_count": 10,
   "metadata": {},
   "outputs": [],
   "source": [
    "feature_test = arr_feature_test.reshape(-1,1)\n",
    "feature_train = arr_feature_train.reshape(-1,1)"
   ]
  },
  {
   "cell_type": "markdown",
   "metadata": {},
   "source": [
    "## SVR Model "
   ]
  },
  {
   "cell_type": "code",
   "execution_count": 11,
   "metadata": {},
   "outputs": [],
   "source": [
    "# create SVR model\n",
    "linear = LinearRegression().fit(feature_test, target_test)\n",
    "svr_rbf = SVR(kernel='rbf', C=1000, gamma=0.0001).fit(feature_test, target_test)"
   ]
  },
  {
   "cell_type": "code",
   "execution_count": 12,
   "metadata": {},
   "outputs": [],
   "source": [
    "feature_list = []\n",
    "target_list = []"
   ]
  },
  {
   "cell_type": "code",
   "execution_count": 13,
   "metadata": {},
   "outputs": [],
   "source": [
    "for i in range (len(feature_test)):\n",
    "    feature_list.append(feature_test[i])"
   ]
  },
  {
   "cell_type": "code",
   "execution_count": 14,
   "metadata": {},
   "outputs": [],
   "source": [
    "for i in range (len(target_test)):\n",
    "    target_list.append(target_test[i])"
   ]
  },
  {
   "cell_type": "code",
   "execution_count": 15,
   "metadata": {},
   "outputs": [],
   "source": [
    "# extend a number of days for forecasting the future \n",
    "last_day = len(feature_list)\n",
    "for i in range(1, 366):\n",
    "    feature_list.append([last_day + i])\n",
    "    target_list.append(np.nan)"
   ]
  },
  {
   "cell_type": "code",
   "execution_count": 16,
   "metadata": {},
   "outputs": [
    {
     "data": {
      "text/plain": [
       "1215"
      ]
     },
     "execution_count": 16,
     "metadata": {},
     "output_type": "execute_result"
    }
   ],
   "source": [
    "len(target_list)"
   ]
  },
  {
   "cell_type": "code",
   "execution_count": 17,
   "metadata": {},
   "outputs": [],
   "source": [
    "# divide element by 100 to convert back to float\n",
    "linear_pred = list(map(lambda x: float(x) / 100, linear.predict(feature_list)))\n",
    "svr_rbf_pred = list(map(lambda x: float(x) / 100, svr_rbf.predict(feature_list)))\n",
    "target = list(map(lambda x: float(x) / 100, target_list))"
   ]
  },
  {
   "cell_type": "markdown",
   "metadata": {},
   "source": [
    "##  Prediction Result"
   ]
  },
  {
   "cell_type": "code",
   "execution_count": 18,
   "metadata": {},
   "outputs": [
    {
     "name": "stdout",
     "output_type": "stream",
     "text": [
      "==== Linear regression prediction ====\n",
      " - 1 day :  21.863016670130946\n",
      " - 30 days :  19.404452049736193\n",
      " - 365 days :  -8.996208220341122\n",
      "==== Support vector regression  prediction ====\n",
      " - 1 day :  53.166952456928364\n",
      " - 2 days :  54.166952456928364\n",
      " - 28 days :  62.82671060830136\n",
      " - 29 days :  63.128191526815684\n",
      " - 30 days :  63.423600260257416\n",
      " - 364 days :  61.33463620053092\n",
      " - 365 days :  61.33463562284611\n"
     ]
    }
   ],
   "source": [
    "# display the prediction at 1 day, 30 days, and 365 days after the last available data\n",
    "print('==== Linear regression prediction ====')\n",
    "print(' - 1 day : ', linear_pred[last_day])\n",
    "print(' - 30 days : ', linear_pred[last_day + 29])\n",
    "print(' - 365 days : ', linear_pred[last_day + 364])\n",
    "\n",
    "print('==== Support vector regression  prediction ====')\n",
    "print(' - 1 day : ', svr_rbf_pred[last_day])\n",
    "print(' - 2 days : ', svr_rbf_pred[last_day] + 1)\n",
    "print(' - 28 days : ', svr_rbf_pred[last_day + 27])\n",
    "print(' - 29 days : ', svr_rbf_pred[last_day + 28])\n",
    "print(' - 30 days : ', svr_rbf_pred[last_day + 29])\n",
    "print(' - 364 days : ', svr_rbf_pred[last_day + 363])\n",
    "print(' - 365 days : ', svr_rbf_pred[last_day + 364])"
   ]
  },
  {
   "cell_type": "code",
   "execution_count": 19,
   "metadata": {},
   "outputs": [
    {
     "name": "stderr",
     "output_type": "stream",
     "text": [
      "C:\\Users\\Fira\\Anaconda3\\lib\\site-packages\\ipykernel_launcher.py:2: MatplotlibDeprecationWarning: pyplot.hold is deprecated.\n",
      "    Future behavior will be consistent with the long-time default:\n",
      "    plot commands add elements without first clearing the\n",
      "    Axes and/or Figure.\n",
      "  \n",
      "C:\\Users\\Fira\\Anaconda3\\lib\\site-packages\\matplotlib\\__init__.py:911: MatplotlibDeprecationWarning: axes.hold is deprecated. Please remove it from your matplotlibrc and/or style files.\n",
      "  mplDeprecation)\n",
      "C:\\Users\\Fira\\Anaconda3\\lib\\site-packages\\matplotlib\\rcsetup.py:156: MatplotlibDeprecationWarning: axes.hold is deprecated, will be removed in 3.0\n",
      "  mplDeprecation)\n"
     ]
    },
    {
     "data": {
      "image/png": "[encoded data removed]",
      "text/plain": [
       "<Figure size 432x288 with 1 Axes>"
      ]
     },
     "metadata": {},
     "output_type": "display_data"
    }
   ],
   "source": [
    "# Plot data output\n",
    "plt.hold(True)\n",
    "plt.plot(feature_list, target, color='black', label='Crude Palm Oil Price')\n",
    "plt.plot(feature_list, linear_pred, color='blue', label='Linear Regressoin')\n",
    "plt.plot(feature_list, svr_rbf_pred, color='red', label='Support Vector Regression RBF')\n",
    "plt.xlabel('Since 2015 until 2020')\n",
    "plt.ylabel('Oil Price (USD)')\n",
    "plt.gca().set_xlim(left = 0)\n",
    "plt.gca().set_xlim(right = 1000)\n",
    "plt.gca().set_ylim(bottom = 0)\n",
    "plt.xticks(np.arange(0, 1001, 60))\n",
    "plt.legend()\n",
    "plt.show()"
   ]
  },
  {
   "cell_type": "code",
   "execution_count": 20,
   "metadata": {},
   "outputs": [],
   "source": [
    "svr_rbf_mape = []\n",
    "for i in range (0, 850):\n",
    "    svr_rbf_mape.append(int(float(svr_rbf_pred[i]) * 100))"
   ]
  },
  {
   "cell_type": "code",
   "execution_count": 21,
   "metadata": {},
   "outputs": [],
   "source": [
    "def mean_absolute_percentage_error(y_true, y_pred): \n",
    "    y_true, y_pred = np.array(y_true), np.array(y_pred)\n",
    "    return np.mean(np.abs((y_true - y_pred) / y_true)) * 100\n"
   ]
  },
  {
   "cell_type": "markdown",
   "metadata": {},
   "source": [
    "## MAPE"
   ]
  },
  {
   "cell_type": "code",
   "execution_count": 22,
   "metadata": {},
   "outputs": [
    {
     "data": {
      "text/plain": [
       "7.141245865727902"
      ]
     },
     "execution_count": 22,
     "metadata": {},
     "output_type": "execute_result"
    }
   ],
   "source": [
    "mean_absolute_percentage_error(target_test, svr_rbf_mape)"
   ]
  },
  {
   "cell_type": "markdown",
   "metadata": {},
   "source": [
    "## R Square "
   ]
  },
  {
   "cell_type": "code",
   "execution_count": 23,
   "metadata": {},
   "outputs": [
    {
     "data": {
      "text/plain": [
       "0.9749686223781932"
      ]
     },
     "execution_count": 23,
     "metadata": {},
     "output_type": "execute_result"
    }
   ],
   "source": [
    "r2_score(target_test, svr_rbf_mape)"
   ]
  },
  {
   "cell_type": "markdown",
   "metadata": {},
   "source": [
    "# Output to Excel File"
   ]
  },
  {
   "cell_type": "code",
   "execution_count": 24,
   "metadata": {},
   "outputs": [],
   "source": [
    "result = []\n",
    "result.append(\"Prediction for 365 days\")\n",
    "nI = len(svr_rbf_pred)\n",
    "for i in range (920, nI):\n",
    "    result.append(svr_rbf_pred[i])"
   ]
  },
  {
   "cell_type": "code",
   "execution_count": 25,
   "metadata": {},
   "outputs": [
    {
     "data": {
      "text/plain": [
       "['Prediction for 365 days',\n",
       " 69.51978918922264,\n",
       " 69.52813651228587,\n",
       " 69.53107417236384,\n",
       " 69.52873715201919,\n",
       " 69.5212625259067,\n",
       " 69.50878923276731,\n",
       " 69.49145785069375,\n",
       " 69.46941037596231,\n",
       " 69.4427900057103,\n",
       " 69.41174092472288,\n",
       " 69.37640809657853,\n",
       " 69.33693705938495,\n",
       " 69.2934737263237,\n",
       " 69.24616419120447,\n",
       " 69.19515453921602,\n",
       " 69.14059066304347,\n",
       " 69.08261808450851,\n",
       " 69.02138178187178,\n",
       " 68.95702602292349,\n",
       " 68.8896942039722,\n",
       " 68.81952869482788,\n",
       " 68.7466706898609,\n",
       " 68.67126006520469,\n",
       " 68.59343524215565,\n",
       " 68.51333305681104,\n",
       " 68.43108863597254,\n",
       " 68.34683527932987,\n",
       " 68.26070434792734,\n",
       " 68.17282515890383,\n",
       " 68.08332488648529,\n",
       " 67.9923284691979,\n",
       " 67.89995852325943,\n",
       " 67.80633526209563,\n",
       " 67.71157642191963,\n",
       " 67.61579719330213,\n",
       " 67.5191101586519,\n",
       " 67.4216252355176,\n",
       " 67.32344962561373,\n",
       " 67.22468776946677,\n",
       " 67.12544130656967,\n",
       " 67.02580904092723,\n",
       " 66.92588691186836,\n",
       " 66.82576796999568,\n",
       " 66.72554235813816,\n",
       " 66.62529729716726,\n",
       " 66.52511707653362,\n",
       " 66.42508304937647,\n",
       " 66.32527363205602,\n",
       " 66.22576430795482,\n",
       " 66.12662763539248,\n",
       " 66.02793325949582,\n",
       " 65.92974792786467,\n",
       " 65.83213550987237,\n",
       " 65.73515701943941,\n",
       " 65.63887064111745,\n",
       " 65.54333175932139,\n",
       " 65.44859299054684,\n",
       " 65.3547042184112,\n",
       " 65.261712631357,\n",
       " 65.16966276285733,\n",
       " 65.07859653396471,\n",
       " 64.98855329804633,\n",
       " 64.89956988754999,\n",
       " 64.8116806626483,\n",
       " 64.72491756160974,\n",
       " 64.63931015274883,\n",
       " 64.55488568780989,\n",
       " 64.47166915664195,\n",
       " 64.38968334302554,\n",
       " 64.30894888151553,\n",
       " 64.22948431516718,\n",
       " 64.15130615401682,\n",
       " 64.07442893419164,\n",
       " 63.99886527752726,\n",
       " 63.92462595157554,\n",
       " 63.851719929889086,\n",
       " 63.78015445247275,\n",
       " 63.70993508629704,\n",
       " 63.64106578577193,\n",
       " 63.57354895308411,\n",
       " 63.50738549830478,\n",
       " 63.44257489917943,\n",
       " 63.37911526051514,\n",
       " 63.317003373085306,\n",
       " 63.25623477197573,\n",
       " 63.196803794300365,\n",
       " 63.1387036362193,\n",
       " 63.081926409194985,\n",
       " 63.026463195427844,\n",
       " 62.97230410241552,\n",
       " 62.91943831658441,\n",
       " 62.86785415594591,\n",
       " 62.81753912173375,\n",
       " 62.76847994898218,\n",
       " 62.720662656008955,\n",
       " 62.674072592770145,\n",
       " 62.628694488057675,\n",
       " 62.58451249551349,\n",
       " 62.541510238438015,\n",
       " 62.4996708533732,\n",
       " 62.4589770324442,\n",
       " 62.41941106444599,\n",
       " 62.38095487466474,\n",
       " 62.343590063426106,\n",
       " 62.30729794336545,\n",
       " 62.272059575417515,\n",
       " 62.2378558035256,\n",
       " 62.204667288072216,\n",
       " 62.17247453803618,\n",
       " 62.14125794188226,\n",
       " 62.11099779719234,\n",
       " 62.0816743390484,\n",
       " 62.05326776717951,\n",
       " 62.02575827188695,\n",
       " 61.99912605876272,\n",
       " 61.973351372218495,\n",
       " 61.94841451784328,\n",
       " 61.92429588360933,\n",
       " 61.900975959946884,\n",
       " 61.87843535870974,\n",
       " 61.85665483105404,\n",
       " 61.83561528425415,\n",
       " 61.815297797479815,\n",
       " 61.79568363655965,\n",
       " 61.776754267756786,\n",
       " 61.75849137058272,\n",
       " 61.74087684967597,\n",
       " 61.72389284577289,\n",
       " 61.70752174579749,\n",
       " 61.691746192098236,\n",
       " 61.676549090859325,\n",
       " 61.6619136197144,\n",
       " 61.64782323459041,\n",
       " 61.6342616758098,\n",
       " 61.621212973478315,\n",
       " 61.608661452186645,\n",
       " 61.59659173505298,\n",
       " 61.58498874713395,\n",
       " 61.57383771823099,\n",
       " 61.56312418511869,\n",
       " 61.552833993221675,\n",
       " 61.54295329776594,\n",
       " 61.53346856443022,\n",
       " 61.524366569522606,\n",
       " 61.515634399707096,\n",
       " 61.507259451304236,\n",
       " 61.49922942918962,\n",
       " 61.491532345313374,\n",
       " 61.48415651686329,\n",
       " 61.47709056409352,\n",
       " 61.47032340784056,\n",
       " 61.46384426674712,\n",
       " 61.45764265421436,\n",
       " 61.451708375102115,\n",
       " 61.44603152219613,\n",
       " 61.44060247246076,\n",
       " 61.43541188309502,\n",
       " 61.43045068740905,\n",
       " 61.42571009053768,\n",
       " 61.421181565007025,\n",
       " 61.41685684616936,\n",
       " 61.412727927521075,\n",
       " 61.40878705591775,\n",
       " 61.40502672669996,\n",
       " 61.401439678742506,\n",
       " 61.398018889439584,\n",
       " 61.39475756963748,\n",
       " 61.3916491585261,\n",
       " 61.388687318499684,\n",
       " 61.38586592999705,\n",
       " 61.383179086330614,\n",
       " 61.38062108851331,\n",
       " 61.37818644009184,\n",
       " 61.37586984199424,\n",
       " 61.3736661873991,\n",
       " 61.37157055663371,\n",
       " 61.36957821210733,\n",
       " 61.36768459328592,\n",
       " 61.36588531171403,\n",
       " 61.3641761460887,\n",
       " 61.36255303739077,\n",
       " 61.36101208407749,\n",
       " 61.359549537340925,\n",
       " 61.35816179643565,\n",
       " 61.356845404079024,\n",
       " 61.35559704192733,\n",
       " 61.35441352613017,\n",
       " 61.35329180296584,\n",
       " 61.352228944559435,\n",
       " 61.351222144685856,\n",
       " 61.35026871465902,\n",
       " 61.34936607930882,\n",
       " 61.3485117730466,\n",
       " 61.34770343602038,\n",
       " 61.34693881036008,\n",
       " 61.346215736513486,\n",
       " 61.345532149672984,\n",
       " 61.34488607629325,\n",
       " 61.34427563069974,\n",
       " 61.343699011787656,\n",
       " 61.34315449981119,\n",
       " 61.34264045326216,\n",
       " 61.34215530583775,\n",
       " 61.34169756349619,\n",
       " 61.3412658015998,\n",
       " 61.34085866214414,\n",
       " 61.340474851072365,\n",
       " 61.340113135673455,\n",
       " 61.339772342063206,\n",
       " 61.33945135274659,\n",
       " 61.339149104260066,\n",
       " 61.3388645848925,\n",
       " 61.33859683248315,\n",
       " 61.3383449322952,\n",
       " 61.338108014963325,\n",
       " 61.33788525451357,\n",
       " 61.33767586645413,\n",
       " 61.33747910593515,\n",
       " 61.33729426597614,\n",
       " 61.337120675759124,\n",
       " 61.336957698985955,\n",
       " 61.33680473229816,\n",
       " 61.33666120375756,\n",
       " 61.33652657138592,\n",
       " 61.33640032176224,\n",
       " 61.33628196867569,\n",
       " 61.33617105183279,\n",
       " 61.336067135617014,\n",
       " 61.335969807899474,\n",
       " 61.335878678898716,\n",
       " 61.335793380088425,\n",
       " 61.33571356315121,\n",
       " 61.335638898977095,\n",
       " 61.33556907670513,\n",
       " 61.335503802806734,\n",
       " 61.33544280020926,\n",
       " 61.33538580745828,\n",
       " 61.33533257791743,\n",
       " 61.3352828790042,\n",
       " 61.335236491460584,\n",
       " 61.33519320865697,\n",
       " 61.33515283592841,\n",
       " 61.33511518994171,\n",
       " 61.33508009809222,\n",
       " 61.33504739792934,\n",
       " 61.335016936609236,\n",
       " 61.33498857037411,\n",
       " 61.334962164056506,\n",
       " 61.334937590608014,\n",
       " 61.334914730651,\n",
       " 61.33489347205272,\n",
       " 61.33487370952058,\n",
       " 61.33485534421784,\n",
       " 61.33483828339877,\n",
       " 61.334822440062396,\n",
       " 61.33480773262412,\n",
       " 61.33479408460426,\n",
       " 61.33478142433285,\n",
       " 61.33476968466996,\n",
       " 61.33475880274074,\n",
       " 61.33474871968464,\n",
       " 61.33473938041796,\n",
       " 61.334730733409245,\n",
       " 61.3347227304669,\n",
       " 61.33471532653835,\n",
       " 61.334708479520266,\n",
       " 61.33470215007927,\n",
       " 61.334696301482666,\n",
       " 61.33469089943858,\n",
       " 61.33468591194515,\n",
       " 61.334681309148365,\n",
       " 61.33467706320779,\n",
       " 61.33467314817024,\n",
       " 61.334669539850594,\n",
       " 61.33466621571963,\n",
       " 61.334663154798335,\n",
       " 61.334660337558546,\n",
       " 61.334657745829325,\n",
       " 61.33465536270904,\n",
       " 61.33465317248267,\n",
       " 61.334651160544,\n",
       " 61.33464931332267,\n",
       " 61.334647618215605,\n",
       " 61.33464606352263,\n",
       " 61.33464463838604,\n",
       " 61.33464333273401,\n",
       " 61.33464213722745,\n",
       " 61.33464104321018,\n",
       " 61.33464004266233,\n",
       " 61.33463912815659,\n",
       " 61.33463829281735,\n",
       " 61.3346375302824,\n",
       " 61.3346368346671,\n",
       " 61.33463620053092,\n",
       " 61.33463562284611]"
      ]
     },
     "execution_count": 25,
     "metadata": {},
     "output_type": "execute_result"
    }
   ],
   "source": [
    "result"
   ]
  },
  {
   "cell_type": "code",
   "execution_count": 26,
   "metadata": {},
   "outputs": [],
   "source": [
    "import xlsxwriter\n",
    "\n",
    "workbook = xlsxwriter.Workbook('prediction.xlsx')\n",
    "worksheet = workbook.add_worksheet()\n",
    "\n",
    "for row_num, data in enumerate(result):\n",
    "    worksheet.write(row_num, 0, data)\n",
    "\n",
    "workbook.close()"
   ]
  }
 ],
 "metadata": {
  "kernelspec": {
   "display_name": "Python 3",
   "language": "python",
   "name": "python3"
  },
  "language_info": {
   "codemirror_mode": {
    "name": "ipython",
    "version": 3
   },
   "file_extension": ".py",
   "mimetype": "text/x-python",
   "name": "python",
   "nbconvert_exporter": "python",
   "pygments_lexer": "ipython3",
   "version": "3.6.4"
  }
 },
 "nbformat": 4,
 "nbformat_minor": 2
}
